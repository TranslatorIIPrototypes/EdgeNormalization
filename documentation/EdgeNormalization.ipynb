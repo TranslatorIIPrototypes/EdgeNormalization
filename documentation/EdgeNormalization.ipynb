{
 "cells": [
  {
   "cell_type": "markdown",
   "metadata": {
    "slideshow": {
     "slide_type": "slide"
    }
   },
   "source": [
    "# Edge Normalization"
   ]
  },
  {
   "cell_type": "markdown",
   "metadata": {
    "slideshow": {
     "slide_type": "slide"
    }
   },
   "source": [
    "## Introduction\n",
    "\n",
    "The [Biolink Model](https://biolink.github.io/biolink-model/) defines allowed predicates in the Translator ecosystem.  Ingesting data from arbitrary sources requires mapping predicates in those sources to Translator predicates. \n",
    " \n",
    "The [EdgeNormalization Service](https://edgenormalization-sri.renci.org/apidocs) can find predicates if they have an exact mapping in the model.  The EdgeNormalization service takes this a step further, and attempts to find the best match to a Biolink predicate, even if there is not an explicit mapping. "
   ]
  },
  {
   "cell_type": "markdown",
   "metadata": {
    "slideshow": {
     "slide_type": "slide"
    }
   },
   "source": [
    "## Direct Lookups\n",
    "\n",
    "If the Biolink model defines a direct mapping to a predicate from another vocabulary, then the EdgeNormalization service will find it.  In this example, we are starting with the RO property `RO:0002450 (directly positively regulates activity of`.  We use the [Biolink Lookup Service](https://bl-lookup-sri.renci.org/apidocs/) to find a predicate that has a direct mapping, and it returns `positively regulates, entity to entity`.  We can also see that by calling the Biolink Lookup service for that property directly."
   ]
  },
  {
   "cell_type": "code",
   "execution_count": 26,
   "metadata": {
    "slideshow": {
     "slide_type": "slide"
    }
   },
   "outputs": [
    {
     "name": "stdout",
     "output_type": "stream",
     "text": [
      "[\n",
      "  \"positively_regulates__entity_to_entity\"\n",
      "]\n",
      "According to the biolink model, our property has the following mappings: ['RO:0002450', 'SEMMEDDB:STIMULATES']\n"
     ]
    }
   ],
   "source": [
    "import json\n",
    "import requests\n",
    "\n",
    "response=requests.get('https://bl-lookup-sri.renci.org/uri_lookup/RO:0002450')\n",
    "print( json.dumps(response.json(), indent = 2))\n",
    "\n",
    "response=requests.get('https://bl-lookup-sri.renci.org/bl/positively_regulates__entity_to_entity')\n",
    "props = response.json()\n",
    "print('According to the biolink model, our property has the following mappings:', props['mappings'])"
   ]
  },
  {
   "cell_type": "markdown",
   "metadata": {
    "slideshow": {
     "slide_type": "slide"
    }
   },
   "source": [
    "Having now seen that there is a direct mapping for this term (as well as `SEMMEDDB:STIMULATES`) in the Biolink Model, we can see what happens when we use EdgeNormalization: it returns the relevant Biolink predicate.  So far, this EdgeNormalization simply recapitulates the response of `uri_lookup`. \n",
    "\n",
    "Notice that EdgeNormalization allows batched calls, as seen here."
   ]
  },
  {
   "cell_type": "code",
   "execution_count": 27,
   "metadata": {
    "slideshow": {
     "slide_type": "fragment"
    }
   },
   "outputs": [
    {
     "name": "stdout",
     "output_type": "stream",
     "text": [
      "\n",
      "Now use these mappings, and see if we can get back to the predicate:\n",
      "{\n",
      "  \"RO:0002450\": {\n",
      "    \"identifier\": \"RO:0002450\",\n",
      "    \"label\": \"positively_regulates__entity_to_entity\"\n",
      "  },\n",
      "  \"SEMMEDDB:STIMULATES\": {\n",
      "    \"identifier\": \"RO:0002450\",\n",
      "    \"label\": \"positively_regulates__entity_to_entity\"\n",
      "  }\n",
      "}\n"
     ]
    }
   ],
   "source": [
    "response = requests.get('https://edgenormalization-sri.renci.org/resolve_predicate',\n",
    "                        params={'predicate':['RO:0002450','SEMMEDDB:STIMULATES']})\n",
    "print('\\nNow use these mappings, and see if we can get back to the predicate:')\n",
    "print( json.dumps(response.json(), indent=2))"
   ]
  },
  {
   "cell_type": "markdown",
   "metadata": {
    "slideshow": {
     "slide_type": "slide"
    }
   },
   "source": [
    "## Find BioLink Predicate for unmapped term\n",
    "\n",
    "EdgeNormalization can also return the best Biolink predicate for an unmapped term.  At the moment, this functionality is limited to terms from Relation Ontology (RO).   Here, we will begin with `RO:0002354 (formed as a result of)`. Checking the [Biolink Lookup Service](https://bl-lookup-sri.renci.org/apidocs/) we can see that there is no direct mapping:"
   ]
  },
  {
   "cell_type": "code",
   "execution_count": null,
   "metadata": {
    "slideshow": {
     "slide_type": "slide"
    }
   },
   "outputs": [],
   "source": [
    "response=requests.get('https://bl-lookup-sri.renci.org/uri_lookup/RO:0002354')\n",
    "print(response.status_code)\n",
    "props = response.json()\n",
    "print(props)"
   ]
  },
  {
   "cell_type": "markdown",
   "metadata": {
    "slideshow": {
     "slide_type": "slide"
    }
   },
   "source": [
    "However, if we call EdgeNormalization, we are returned a suitable Biolink Model predicate:"
   ]
  },
  {
   "cell_type": "code",
   "execution_count": 28,
   "metadata": {
    "slideshow": {
     "slide_type": "fragment"
    }
   },
   "outputs": [
    {
     "name": "stdout",
     "output_type": "stream",
     "text": [
      "\n",
      "Now use these mappings, and see if we can get back to the predicate:\n",
      "{\n",
      "  \"RO:0002354\": {\n",
      "    \"identifier\": \"RO:0000056\",\n",
      "    \"label\": \"participates_in\"\n",
      "  }\n",
      "}\n"
     ]
    }
   ],
   "source": [
    "response = requests.get('https://edgenormalization-sri.renci.org/resolve_predicate',\n",
    "                        params={'predicate':['RO:0002354']})\n",
    "print('\\nNow use these mappings, and see if we can get back to the predicate:')\n",
    "print( json.dumps(response.json(), indent=2))"
   ]
  }
 ],
 "metadata": {
  "celltoolbar": "Slideshow",
  "kernelspec": {
   "display_name": "Python 3",
   "language": "python",
   "name": "python3"
  },
  "language_info": {
   "codemirror_mode": {
    "name": "ipython",
    "version": 3
   },
   "file_extension": ".py",
   "mimetype": "text/x-python",
   "name": "python",
   "nbconvert_exporter": "python",
   "pygments_lexer": "ipython3",
   "version": "3.7.5"
  }
 },
 "nbformat": 4,
 "nbformat_minor": 2
}
